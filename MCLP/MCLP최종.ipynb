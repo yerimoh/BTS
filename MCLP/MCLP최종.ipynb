{
  "nbformat": 4,
  "nbformat_minor": 0,
  "metadata": {
    "colab": {
      "name": "MCLP최종",
      "provenance": [],
      "collapsed_sections": []
    },
    "kernelspec": {
      "name": "python3",
      "display_name": "Python 3"
    },
    "language_info": {
      "name": "python"
    }
  },
  "cells": [
    {
      "cell_type": "code",
      "metadata": {
        "colab": {
          "base_uri": "https://localhost:8080/"
        },
        "id": "d2uBUZUhx7UR",
        "outputId": "ecfaf58c-e885-49f9-a136-27a497dbb867"
      },
      "source": [
        "!pip install geopandas"
      ],
      "execution_count": null,
      "outputs": [
        {
          "output_type": "stream",
          "name": "stdout",
          "text": [
            "Collecting geopandas\n",
            "  Downloading geopandas-0.10.1-py2.py3-none-any.whl (1.0 MB)\n",
            "\u001b[?25l\r\u001b[K     |▎                               | 10 kB 25.7 MB/s eta 0:00:01\r\u001b[K     |▋                               | 20 kB 31.5 MB/s eta 0:00:01\r\u001b[K     |█                               | 30 kB 23.9 MB/s eta 0:00:01\r\u001b[K     |█▎                              | 40 kB 18.6 MB/s eta 0:00:01\r\u001b[K     |█▋                              | 51 kB 7.9 MB/s eta 0:00:01\r\u001b[K     |██                              | 61 kB 8.3 MB/s eta 0:00:01\r\u001b[K     |██▎                             | 71 kB 7.0 MB/s eta 0:00:01\r\u001b[K     |██▌                             | 81 kB 7.8 MB/s eta 0:00:01\r\u001b[K     |██▉                             | 92 kB 8.0 MB/s eta 0:00:01\r\u001b[K     |███▏                            | 102 kB 7.4 MB/s eta 0:00:01\r\u001b[K     |███▌                            | 112 kB 7.4 MB/s eta 0:00:01\r\u001b[K     |███▉                            | 122 kB 7.4 MB/s eta 0:00:01\r\u001b[K     |████▏                           | 133 kB 7.4 MB/s eta 0:00:01\r\u001b[K     |████▌                           | 143 kB 7.4 MB/s eta 0:00:01\r\u001b[K     |████▊                           | 153 kB 7.4 MB/s eta 0:00:01\r\u001b[K     |█████                           | 163 kB 7.4 MB/s eta 0:00:01\r\u001b[K     |█████▍                          | 174 kB 7.4 MB/s eta 0:00:01\r\u001b[K     |█████▊                          | 184 kB 7.4 MB/s eta 0:00:01\r\u001b[K     |██████                          | 194 kB 7.4 MB/s eta 0:00:01\r\u001b[K     |██████▍                         | 204 kB 7.4 MB/s eta 0:00:01\r\u001b[K     |██████▊                         | 215 kB 7.4 MB/s eta 0:00:01\r\u001b[K     |███████                         | 225 kB 7.4 MB/s eta 0:00:01\r\u001b[K     |███████▎                        | 235 kB 7.4 MB/s eta 0:00:01\r\u001b[K     |███████▋                        | 245 kB 7.4 MB/s eta 0:00:01\r\u001b[K     |████████                        | 256 kB 7.4 MB/s eta 0:00:01\r\u001b[K     |████████▎                       | 266 kB 7.4 MB/s eta 0:00:01\r\u001b[K     |████████▋                       | 276 kB 7.4 MB/s eta 0:00:01\r\u001b[K     |█████████                       | 286 kB 7.4 MB/s eta 0:00:01\r\u001b[K     |█████████▏                      | 296 kB 7.4 MB/s eta 0:00:01\r\u001b[K     |█████████▌                      | 307 kB 7.4 MB/s eta 0:00:01\r\u001b[K     |█████████▉                      | 317 kB 7.4 MB/s eta 0:00:01\r\u001b[K     |██████████▏                     | 327 kB 7.4 MB/s eta 0:00:01\r\u001b[K     |██████████▌                     | 337 kB 7.4 MB/s eta 0:00:01\r\u001b[K     |██████████▉                     | 348 kB 7.4 MB/s eta 0:00:01\r\u001b[K     |███████████▏                    | 358 kB 7.4 MB/s eta 0:00:01\r\u001b[K     |███████████▌                    | 368 kB 7.4 MB/s eta 0:00:01\r\u001b[K     |███████████▊                    | 378 kB 7.4 MB/s eta 0:00:01\r\u001b[K     |████████████                    | 389 kB 7.4 MB/s eta 0:00:01\r\u001b[K     |████████████▍                   | 399 kB 7.4 MB/s eta 0:00:01\r\u001b[K     |████████████▊                   | 409 kB 7.4 MB/s eta 0:00:01\r\u001b[K     |█████████████                   | 419 kB 7.4 MB/s eta 0:00:01\r\u001b[K     |█████████████▍                  | 430 kB 7.4 MB/s eta 0:00:01\r\u001b[K     |█████████████▊                  | 440 kB 7.4 MB/s eta 0:00:01\r\u001b[K     |██████████████                  | 450 kB 7.4 MB/s eta 0:00:01\r\u001b[K     |██████████████▎                 | 460 kB 7.4 MB/s eta 0:00:01\r\u001b[K     |██████████████▋                 | 471 kB 7.4 MB/s eta 0:00:01\r\u001b[K     |███████████████                 | 481 kB 7.4 MB/s eta 0:00:01\r\u001b[K     |███████████████▎                | 491 kB 7.4 MB/s eta 0:00:01\r\u001b[K     |███████████████▋                | 501 kB 7.4 MB/s eta 0:00:01\r\u001b[K     |████████████████                | 512 kB 7.4 MB/s eta 0:00:01\r\u001b[K     |████████████████▏               | 522 kB 7.4 MB/s eta 0:00:01\r\u001b[K     |████████████████▌               | 532 kB 7.4 MB/s eta 0:00:01\r\u001b[K     |████████████████▉               | 542 kB 7.4 MB/s eta 0:00:01\r\u001b[K     |█████████████████▏              | 552 kB 7.4 MB/s eta 0:00:01\r\u001b[K     |█████████████████▌              | 563 kB 7.4 MB/s eta 0:00:01\r\u001b[K     |█████████████████▉              | 573 kB 7.4 MB/s eta 0:00:01\r\u001b[K     |██████████████████▏             | 583 kB 7.4 MB/s eta 0:00:01\r\u001b[K     |██████████████████▍             | 593 kB 7.4 MB/s eta 0:00:01\r\u001b[K     |██████████████████▊             | 604 kB 7.4 MB/s eta 0:00:01\r\u001b[K     |███████████████████             | 614 kB 7.4 MB/s eta 0:00:01\r\u001b[K     |███████████████████▍            | 624 kB 7.4 MB/s eta 0:00:01\r\u001b[K     |███████████████████▊            | 634 kB 7.4 MB/s eta 0:00:01\r\u001b[K     |████████████████████            | 645 kB 7.4 MB/s eta 0:00:01\r\u001b[K     |████████████████████▍           | 655 kB 7.4 MB/s eta 0:00:01\r\u001b[K     |████████████████████▊           | 665 kB 7.4 MB/s eta 0:00:01\r\u001b[K     |█████████████████████           | 675 kB 7.4 MB/s eta 0:00:01\r\u001b[K     |█████████████████████▎          | 686 kB 7.4 MB/s eta 0:00:01\r\u001b[K     |█████████████████████▋          | 696 kB 7.4 MB/s eta 0:00:01\r\u001b[K     |██████████████████████          | 706 kB 7.4 MB/s eta 0:00:01\r\u001b[K     |██████████████████████▎         | 716 kB 7.4 MB/s eta 0:00:01\r\u001b[K     |██████████████████████▋         | 727 kB 7.4 MB/s eta 0:00:01\r\u001b[K     |███████████████████████         | 737 kB 7.4 MB/s eta 0:00:01\r\u001b[K     |███████████████████████▏        | 747 kB 7.4 MB/s eta 0:00:01\r\u001b[K     |███████████████████████▌        | 757 kB 7.4 MB/s eta 0:00:01\r\u001b[K     |███████████████████████▉        | 768 kB 7.4 MB/s eta 0:00:01\r\u001b[K     |████████████████████████▏       | 778 kB 7.4 MB/s eta 0:00:01\r\u001b[K     |████████████████████████▌       | 788 kB 7.4 MB/s eta 0:00:01\r\u001b[K     |████████████████████████▉       | 798 kB 7.4 MB/s eta 0:00:01\r\u001b[K     |█████████████████████████▏      | 808 kB 7.4 MB/s eta 0:00:01\r\u001b[K     |█████████████████████████▍      | 819 kB 7.4 MB/s eta 0:00:01\r\u001b[K     |█████████████████████████▊      | 829 kB 7.4 MB/s eta 0:00:01\r\u001b[K     |██████████████████████████      | 839 kB 7.4 MB/s eta 0:00:01\r\u001b[K     |██████████████████████████▍     | 849 kB 7.4 MB/s eta 0:00:01\r\u001b[K     |██████████████████████████▊     | 860 kB 7.4 MB/s eta 0:00:01\r\u001b[K     |███████████████████████████     | 870 kB 7.4 MB/s eta 0:00:01\r\u001b[K     |███████████████████████████▍    | 880 kB 7.4 MB/s eta 0:00:01\r\u001b[K     |███████████████████████████▋    | 890 kB 7.4 MB/s eta 0:00:01\r\u001b[K     |████████████████████████████    | 901 kB 7.4 MB/s eta 0:00:01\r\u001b[K     |████████████████████████████▎   | 911 kB 7.4 MB/s eta 0:00:01\r\u001b[K     |████████████████████████████▋   | 921 kB 7.4 MB/s eta 0:00:01\r\u001b[K     |█████████████████████████████   | 931 kB 7.4 MB/s eta 0:00:01\r\u001b[K     |█████████████████████████████▎  | 942 kB 7.4 MB/s eta 0:00:01\r\u001b[K     |█████████████████████████████▋  | 952 kB 7.4 MB/s eta 0:00:01\r\u001b[K     |█████████████████████████████▉  | 962 kB 7.4 MB/s eta 0:00:01\r\u001b[K     |██████████████████████████████▏ | 972 kB 7.4 MB/s eta 0:00:01\r\u001b[K     |██████████████████████████████▌ | 983 kB 7.4 MB/s eta 0:00:01\r\u001b[K     |██████████████████████████████▉ | 993 kB 7.4 MB/s eta 0:00:01\r\u001b[K     |███████████████████████████████▏| 1.0 MB 7.4 MB/s eta 0:00:01\r\u001b[K     |███████████████████████████████▌| 1.0 MB 7.4 MB/s eta 0:00:01\r\u001b[K     |███████████████████████████████▉| 1.0 MB 7.4 MB/s eta 0:00:01\r\u001b[K     |████████████████████████████████| 1.0 MB 7.4 MB/s \n",
            "\u001b[?25hRequirement already satisfied: pandas>=0.25.0 in /usr/local/lib/python3.7/dist-packages (from geopandas) (1.1.5)\n",
            "Requirement already satisfied: shapely>=1.6 in /usr/local/lib/python3.7/dist-packages (from geopandas) (1.7.1)\n",
            "Collecting fiona>=1.8\n",
            "  Downloading Fiona-1.8.20-cp37-cp37m-manylinux1_x86_64.whl (15.4 MB)\n",
            "\u001b[K     |████████████████████████████████| 15.4 MB 39 kB/s \n",
            "\u001b[?25hCollecting pyproj>=2.2.0\n",
            "  Downloading pyproj-3.2.1-cp37-cp37m-manylinux2010_x86_64.whl (6.3 MB)\n",
            "\u001b[K     |████████████████████████████████| 6.3 MB 44.9 MB/s \n",
            "\u001b[?25hCollecting click-plugins>=1.0\n",
            "  Downloading click_plugins-1.1.1-py2.py3-none-any.whl (7.5 kB)\n",
            "Requirement already satisfied: click>=4.0 in /usr/local/lib/python3.7/dist-packages (from fiona>=1.8->geopandas) (7.1.2)\n",
            "Requirement already satisfied: certifi in /usr/local/lib/python3.7/dist-packages (from fiona>=1.8->geopandas) (2021.5.30)\n",
            "Collecting cligj>=0.5\n",
            "  Downloading cligj-0.7.2-py3-none-any.whl (7.1 kB)\n",
            "Requirement already satisfied: attrs>=17 in /usr/local/lib/python3.7/dist-packages (from fiona>=1.8->geopandas) (21.2.0)\n",
            "Requirement already satisfied: six>=1.7 in /usr/local/lib/python3.7/dist-packages (from fiona>=1.8->geopandas) (1.15.0)\n",
            "Requirement already satisfied: setuptools in /usr/local/lib/python3.7/dist-packages (from fiona>=1.8->geopandas) (57.4.0)\n",
            "Collecting munch\n",
            "  Downloading munch-2.5.0-py2.py3-none-any.whl (10 kB)\n",
            "Requirement already satisfied: pytz>=2017.2 in /usr/local/lib/python3.7/dist-packages (from pandas>=0.25.0->geopandas) (2018.9)\n",
            "Requirement already satisfied: python-dateutil>=2.7.3 in /usr/local/lib/python3.7/dist-packages (from pandas>=0.25.0->geopandas) (2.8.2)\n",
            "Requirement already satisfied: numpy>=1.15.4 in /usr/local/lib/python3.7/dist-packages (from pandas>=0.25.0->geopandas) (1.19.5)\n",
            "Installing collected packages: munch, cligj, click-plugins, pyproj, fiona, geopandas\n",
            "Successfully installed click-plugins-1.1.1 cligj-0.7.2 fiona-1.8.20 geopandas-0.10.1 munch-2.5.0 pyproj-3.2.1\n"
          ]
        }
      ]
    },
    {
      "cell_type": "code",
      "metadata": {
        "colab": {
          "base_uri": "https://localhost:8080/"
        },
        "id": "njBJC4ezytdg",
        "outputId": "b454b50d-d3a9-4653-eb5f-ed742682f26a"
      },
      "source": [
        "!pip install matplotlib_scalebar"
      ],
      "execution_count": null,
      "outputs": [
        {
          "output_type": "stream",
          "name": "stdout",
          "text": [
            "Collecting matplotlib_scalebar\n",
            "  Downloading matplotlib_scalebar-0.7.2-py2.py3-none-any.whl (17 kB)\n",
            "Requirement already satisfied: matplotlib in /usr/local/lib/python3.7/dist-packages (from matplotlib_scalebar) (3.2.2)\n",
            "Requirement already satisfied: python-dateutil>=2.1 in /usr/local/lib/python3.7/dist-packages (from matplotlib->matplotlib_scalebar) (2.8.2)\n",
            "Requirement already satisfied: pyparsing!=2.0.4,!=2.1.2,!=2.1.6,>=2.0.1 in /usr/local/lib/python3.7/dist-packages (from matplotlib->matplotlib_scalebar) (2.4.7)\n",
            "Requirement already satisfied: kiwisolver>=1.0.1 in /usr/local/lib/python3.7/dist-packages (from matplotlib->matplotlib_scalebar) (1.3.2)\n",
            "Requirement already satisfied: numpy>=1.11 in /usr/local/lib/python3.7/dist-packages (from matplotlib->matplotlib_scalebar) (1.19.5)\n",
            "Requirement already satisfied: cycler>=0.10 in /usr/local/lib/python3.7/dist-packages (from matplotlib->matplotlib_scalebar) (0.10.0)\n",
            "Requirement already satisfied: six in /usr/local/lib/python3.7/dist-packages (from cycler>=0.10->matplotlib->matplotlib_scalebar) (1.15.0)\n",
            "Installing collected packages: matplotlib-scalebar\n",
            "Successfully installed matplotlib-scalebar-0.7.2\n"
          ]
        }
      ]
    },
    {
      "cell_type": "code",
      "metadata": {
        "colab": {
          "base_uri": "https://localhost:8080/"
        },
        "id": "UrvgYVozylow",
        "outputId": "548db30c-8340-4347-e430-f2ca2ecf7cf7"
      },
      "source": [
        "!pip install spaghetti"
      ],
      "execution_count": null,
      "outputs": [
        {
          "output_type": "stream",
          "name": "stdout",
          "text": [
            "Collecting spaghetti\n",
            "  Downloading spaghetti-1.6.4-py3-none-any.whl (46 kB)\n",
            "\u001b[?25l\r\u001b[K     |███████                         | 10 kB 21.9 MB/s eta 0:00:01\r\u001b[K     |██████████████▏                 | 20 kB 27.5 MB/s eta 0:00:01\r\u001b[K     |█████████████████████▎          | 30 kB 22.2 MB/s eta 0:00:01\r\u001b[K     |████████████████████████████▎   | 40 kB 18.7 MB/s eta 0:00:01\r\u001b[K     |████████████████████████████████| 46 kB 3.4 MB/s \n",
            "\u001b[?25hRequirement already satisfied: numpy>=1.3 in /usr/local/lib/python3.7/dist-packages (from spaghetti) (1.19.5)\n",
            "Requirement already satisfied: pandas>=1.0 in /usr/local/lib/python3.7/dist-packages (from spaghetti) (1.1.5)\n",
            "Collecting rtree\n",
            "  Downloading Rtree-0.9.7-cp37-cp37m-manylinux2010_x86_64.whl (994 kB)\n",
            "\u001b[K     |████████████████████████████████| 994 kB 9.1 MB/s \n",
            "\u001b[?25hCollecting esda\n",
            "  Downloading esda-2.4.1.tar.gz (95 kB)\n",
            "\u001b[K     |████████████████████████████████| 95 kB 4.4 MB/s \n",
            "\u001b[?25hRequirement already satisfied: scipy>=1.0 in /usr/local/lib/python3.7/dist-packages (from spaghetti) (1.4.1)\n",
            "Collecting libpysal\n",
            "  Downloading libpysal-4.5.1-py3-none-any.whl (2.4 MB)\n",
            "\u001b[K     |████████████████████████████████| 2.4 MB 35.4 MB/s \n",
            "\u001b[?25hRequirement already satisfied: pytz>=2017.2 in /usr/local/lib/python3.7/dist-packages (from pandas>=1.0->spaghetti) (2018.9)\n",
            "Requirement already satisfied: python-dateutil>=2.7.3 in /usr/local/lib/python3.7/dist-packages (from pandas>=1.0->spaghetti) (2.8.2)\n",
            "Requirement already satisfied: six>=1.5 in /usr/local/lib/python3.7/dist-packages (from python-dateutil>=2.7.3->pandas>=1.0->spaghetti) (1.15.0)\n",
            "Requirement already satisfied: scikit-learn in /usr/local/lib/python3.7/dist-packages (from esda->spaghetti) (0.22.2.post1)\n",
            "Requirement already satisfied: requests in /usr/local/lib/python3.7/dist-packages (from libpysal->spaghetti) (2.23.0)\n",
            "Requirement already satisfied: jinja2 in /usr/local/lib/python3.7/dist-packages (from libpysal->spaghetti) (2.11.3)\n",
            "Requirement already satisfied: beautifulsoup4 in /usr/local/lib/python3.7/dist-packages (from libpysal->spaghetti) (4.6.3)\n",
            "Requirement already satisfied: MarkupSafe>=0.23 in /usr/local/lib/python3.7/dist-packages (from jinja2->libpysal->spaghetti) (2.0.1)\n",
            "Requirement already satisfied: urllib3!=1.25.0,!=1.25.1,<1.26,>=1.21.1 in /usr/local/lib/python3.7/dist-packages (from requests->libpysal->spaghetti) (1.24.3)\n",
            "Requirement already satisfied: idna<3,>=2.5 in /usr/local/lib/python3.7/dist-packages (from requests->libpysal->spaghetti) (2.10)\n",
            "Requirement already satisfied: chardet<4,>=3.0.2 in /usr/local/lib/python3.7/dist-packages (from requests->libpysal->spaghetti) (3.0.4)\n",
            "Requirement already satisfied: certifi>=2017.4.17 in /usr/local/lib/python3.7/dist-packages (from requests->libpysal->spaghetti) (2021.5.30)\n",
            "Requirement already satisfied: joblib>=0.11 in /usr/local/lib/python3.7/dist-packages (from scikit-learn->esda->spaghetti) (1.0.1)\n",
            "Building wheels for collected packages: esda\n",
            "  Building wheel for esda (setup.py) ... \u001b[?25l\u001b[?25hdone\n",
            "  Created wheel for esda: filename=esda-2.4.1-py3-none-any.whl size=117429 sha256=e7715c281ce615405cc6ca099747136861de090e2d41b65f387df6ed2440113a\n",
            "  Stored in directory: /root/.cache/pip/wheels/ed/67/c5/4558a178be4c410f341c31f71b5aba9c761a40c9d17dbdfddd\n",
            "Successfully built esda\n",
            "Installing collected packages: libpysal, rtree, esda, spaghetti\n",
            "Successfully installed esda-2.4.1 libpysal-4.5.1 rtree-0.9.7 spaghetti-1.6.4\n"
          ]
        }
      ]
    },
    {
      "cell_type": "code",
      "metadata": {
        "colab": {
          "base_uri": "https://localhost:8080/"
        },
        "id": "JAebFZqV5lTR",
        "outputId": "f989e946-5a8d-4164-aa35-36c3bbc75ea6"
      },
      "source": [
        "!pip install mip"
      ],
      "execution_count": null,
      "outputs": [
        {
          "output_type": "stream",
          "name": "stdout",
          "text": [
            "Collecting mip\n",
            "  Downloading mip-1.13.0-py3-none-any.whl (48.0 MB)\n",
            "\u001b[K     |████████████████████████████████| 48.0 MB 42 kB/s \n",
            "\u001b[?25hRequirement already satisfied: cffi in /usr/local/lib/python3.7/dist-packages (from mip) (1.14.6)\n",
            "Requirement already satisfied: pycparser in /usr/local/lib/python3.7/dist-packages (from cffi->mip) (2.20)\n",
            "Installing collected packages: mip\n",
            "Successfully installed mip-1.13.0\n"
          ]
        }
      ]
    },
    {
      "cell_type": "code",
      "metadata": {
        "colab": {
          "base_uri": "https://localhost:8080/"
        },
        "id": "JbDx8gAb5s8M",
        "outputId": "4d6d5e71-7601-48d2-85f8-9b9575ee6233"
      },
      "source": [
        "!pip install gurobipy"
      ],
      "execution_count": 24,
      "outputs": [
        {
          "output_type": "stream",
          "name": "stdout",
          "text": [
            "Requirement already satisfied: gurobipy in /usr/local/lib/python3.7/dist-packages (9.1.2)\n"
          ]
        }
      ]
    },
    {
      "cell_type": "code",
      "metadata": {
        "colab": {
          "base_uri": "https://localhost:8080/",
          "height": 492
        },
        "id": "fVexM3f0yytl",
        "outputId": "8384cf4f-41b4-4df1-fd0b-4793cfd1ad11"
      },
      "source": [
        "!pip install ortools"
      ],
      "execution_count": null,
      "outputs": [
        {
          "output_type": "stream",
          "name": "stdout",
          "text": [
            "Collecting ortools\n",
            "  Downloading ortools-9.1.9490-cp37-cp37m-manylinux_2_17_x86_64.manylinux2014_x86_64.whl (14.5 MB)\n",
            "\u001b[K     |████████████████████████████████| 14.5 MB 93 kB/s \n",
            "\u001b[?25hCollecting protobuf>=3.18.0\n",
            "  Downloading protobuf-3.18.1-cp37-cp37m-manylinux_2_17_x86_64.manylinux2014_x86_64.whl (1.1 MB)\n",
            "\u001b[K     |████████████████████████████████| 1.1 MB 34.4 MB/s \n",
            "\u001b[?25hCollecting absl-py>=0.13\n",
            "  Downloading absl_py-0.14.1-py3-none-any.whl (131 kB)\n",
            "\u001b[K     |████████████████████████████████| 131 kB 59.8 MB/s \n",
            "\u001b[?25hRequirement already satisfied: six in /usr/local/lib/python3.7/dist-packages (from absl-py>=0.13->ortools) (1.15.0)\n",
            "Installing collected packages: protobuf, absl-py, ortools\n",
            "  Attempting uninstall: protobuf\n",
            "    Found existing installation: protobuf 3.17.3\n",
            "    Uninstalling protobuf-3.17.3:\n",
            "      Successfully uninstalled protobuf-3.17.3\n",
            "  Attempting uninstall: absl-py\n",
            "    Found existing installation: absl-py 0.12.0\n",
            "    Uninstalling absl-py-0.12.0:\n",
            "      Successfully uninstalled absl-py-0.12.0\n",
            "\u001b[31mERROR: pip's dependency resolver does not currently take into account all the packages that are installed. This behaviour is the source of the following dependency conflicts.\n",
            "tensorflow-metadata 1.2.0 requires absl-py<0.13,>=0.9, but you have absl-py 0.14.1 which is incompatible.\u001b[0m\n",
            "Successfully installed absl-py-0.14.1 ortools-9.1.9490 protobuf-3.18.1\n"
          ]
        },
        {
          "output_type": "display_data",
          "data": {
            "application/vnd.colab-display-data+json": {
              "pip_warning": {
                "packages": [
                  "google"
                ]
              }
            }
          },
          "metadata": {}
        }
      ]
    },
    {
      "cell_type": "code",
      "metadata": {
        "id": "4mJnZVjrxj7-"
      },
      "source": [
        "import pandas as pd\n",
        "import numpy as np\n",
        "import geopandas\n",
        "import io"
      ],
      "execution_count": null,
      "outputs": []
    },
    {
      "cell_type": "code",
      "metadata": {
        "colab": {
          "base_uri": "https://localhost:8080/"
        },
        "id": "V3-g8XuRyhMD",
        "outputId": "4ce9c285-ec0c-4f9e-fb4d-c2f47472939d"
      },
      "source": [
        "import pandas as pd\n",
        "from collections import OrderedDict\n",
        "import geopandas\n",
        "import libpysal\n",
        "from libpysal import cg, examples\n",
        "import matplotlib\n",
        "import matplotlib.pyplot as plt\n",
        "import matplotlib.lines as mlines\n",
        "import matplotlib.patches as mpatches\n",
        "from matplotlib.colors import ListedColormap\n",
        "import matplotlib_scalebar\n",
        "from matplotlib_scalebar.scalebar import ScaleBar\n",
        "import numpy\n",
        "import ortools\n",
        "from ortools.linear_solver import pywraplp\n",
        "import seaborn\n",
        "import shapely\n",
        "from shapely.geometry import Point\n",
        "import spaghetti\n",
        "import sys\n",
        "\n",
        "%matplotlib inline\n",
        "\n",
        "import numpy as np\n",
        "import folium"
      ],
      "execution_count": null,
      "outputs": [
        {
          "output_type": "stream",
          "name": "stderr",
          "text": [
            "/usr/local/lib/python3.7/dist-packages/spaghetti/network.py:36: FutureWarning: The next major release of pysal/spaghetti (2.0.0) will drop support for all ``libpysal.cg`` geometries. This change is a first step in refactoring ``spaghetti`` that is expected to result in dramatically reduced runtimes for network instantiation and operations. Users currently requiring network and point pattern input as ``libpysal.cg`` geometries should prepare for this simply by converting to ``shapely`` geometries.\n",
            "  warnings.warn(f\"{dep_msg}\", FutureWarning)\n"
          ]
        }
      ]
    },
    {
      "cell_type": "markdown",
      "metadata": {
        "id": "Tpcw9m43zIkk"
      },
      "source": [
        "# 여기서부터 수정"
      ]
    },
    {
      "cell_type": "code",
      "metadata": {
        "colab": {
          "resources": {
            "http://localhost:8080/nbextensions/google.colab/files.js": {
              "data": "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",
              "ok": true,
              "headers": [
                [
                  "content-type",
                  "application/javascript"
                ]
              ],
              "status": 200,
              "status_text": ""
            }
          },
          "base_uri": "https://localhost:8080/",
          "height": 92
        },
        "id": "KfYDXb4-xufI",
        "outputId": "4df9850e-2ef9-45af-b1c8-a07b603a94c6"
      },
      "source": [
        "#파일 직접 업로드하기\n",
        "from google.colab import files\n",
        "myfile = files.upload()\n"
      ],
      "execution_count": 333,
      "outputs": [
        {
          "output_type": "display_data",
          "data": {
            "text/html": [
              "\n",
              "     <input type=\"file\" id=\"files-5986349d-bd85-4dcd-81dc-fb2a522ffa07\" name=\"files[]\" multiple disabled\n",
              "        style=\"border:none\" />\n",
              "     <output id=\"result-5986349d-bd85-4dcd-81dc-fb2a522ffa07\">\n",
              "      Upload widget is only available when the cell has been executed in the\n",
              "      current browser session. Please rerun this cell to enable.\n",
              "      </output>\n",
              "      <script src=\"/nbextensions/google.colab/files.js\"></script> "
            ],
            "text/plain": [
              "<IPython.core.display.HTML object>"
            ]
          },
          "metadata": {}
        },
        {
          "output_type": "stream",
          "name": "stdout",
          "text": [
            "Saving 중량구 신호등.csv to 중량구 신호등.csv\n"
          ]
        }
      ]
    },
    {
      "cell_type": "code",
      "metadata": {
        "colab": {
          "base_uri": "https://localhost:8080/"
        },
        "id": "_1G--N8jxoq2",
        "outputId": "ecc545ac-4658-427c-8ea3-265a21fbd8c3"
      },
      "source": [
        "right = pd.read_csv('중량구 신호등.csv', encoding='utf-8')\n",
        "right = right.iloc[::2]\n",
        "#right = right.iloc[::2]\n",
        "print(right)\n",
        "print(right.shape[0])"
      ],
      "execution_count": 334,
      "outputs": [
        {
          "output_type": "stream",
          "name": "stdout",
          "text": [
            "         id         xcoord         ycoord\n",
            "0       248  208044.930851  555967.929541\n",
            "2       250  208984.525322  555004.233742\n",
            "4       268  206766.452866  555039.343177\n",
            "6       357  208453.469884  557218.606598\n",
            "8       369  208502.662060  557182.800750\n",
            "...     ...            ...            ...\n",
            "1522  37132  206674.682191  557047.904555\n",
            "1524  37220  207237.262371  553768.668668\n",
            "1526  37222  207089.999689  553773.499795\n",
            "1528  37245  208901.184583  557241.425033\n",
            "1530  37297  207091.819549  553761.810505\n",
            "\n",
            "[766 rows x 3 columns]\n",
            "766\n"
          ]
        }
      ]
    },
    {
      "cell_type": "code",
      "metadata": {
        "colab": {
          "base_uri": "https://localhost:8080/",
          "height": 110
        },
        "id": "0dWSLQXTxvF0",
        "outputId": "1feb8049-770d-4f61-9652-e72dcf189bb0"
      },
      "source": [
        "#가져온 데이터가 기존에 5179좌표계여서 set_crs만 진행\n",
        "right = geopandas.GeoDataFrame(right, geometry=geopandas.points_from_xy(right['xcoord'], right['ycoord']))\n",
        "right.set_crs(epsg = 5179, inplace = True)\n",
        "right.head(2)"
      ],
      "execution_count": 335,
      "outputs": [
        {
          "output_type": "execute_result",
          "data": {
            "text/html": [
              "<div>\n",
              "<style scoped>\n",
              "    .dataframe tbody tr th:only-of-type {\n",
              "        vertical-align: middle;\n",
              "    }\n",
              "\n",
              "    .dataframe tbody tr th {\n",
              "        vertical-align: top;\n",
              "    }\n",
              "\n",
              "    .dataframe thead th {\n",
              "        text-align: right;\n",
              "    }\n",
              "</style>\n",
              "<table border=\"1\" class=\"dataframe\">\n",
              "  <thead>\n",
              "    <tr style=\"text-align: right;\">\n",
              "      <th></th>\n",
              "      <th>id</th>\n",
              "      <th>xcoord</th>\n",
              "      <th>ycoord</th>\n",
              "      <th>geometry</th>\n",
              "    </tr>\n",
              "  </thead>\n",
              "  <tbody>\n",
              "    <tr>\n",
              "      <th>0</th>\n",
              "      <td>248</td>\n",
              "      <td>208044.930851</td>\n",
              "      <td>555967.929541</td>\n",
              "      <td>POINT (208044.931 555967.930)</td>\n",
              "    </tr>\n",
              "    <tr>\n",
              "      <th>2</th>\n",
              "      <td>250</td>\n",
              "      <td>208984.525322</td>\n",
              "      <td>555004.233742</td>\n",
              "      <td>POINT (208984.525 555004.234)</td>\n",
              "    </tr>\n",
              "  </tbody>\n",
              "</table>\n",
              "</div>"
            ],
            "text/plain": [
              "    id         xcoord         ycoord                       geometry\n",
              "0  248  208044.930851  555967.929541  POINT (208044.931 555967.930)\n",
              "2  250  208984.525322  555004.233742  POINT (208984.525 555004.234)"
            ]
          },
          "metadata": {},
          "execution_count": 335
        }
      ]
    },
    {
      "cell_type": "code",
      "metadata": {
        "colab": {
          "base_uri": "https://localhost:8080/",
          "height": 282
        },
        "id": "I5KndLmpyObU",
        "outputId": "0a271f53-75a6-4ee4-dba2-daff80033c23"
      },
      "source": [
        "right.plot(color='blue', markersize = 1)"
      ],
      "execution_count": 336,
      "outputs": [
        {
          "output_type": "execute_result",
          "data": {
            "text/plain": [
              "<matplotlib.axes._subplots.AxesSubplot at 0x7fb6b6f4f650>"
            ]
          },
          "metadata": {},
          "execution_count": 336
        },
        {
          "output_type": "display_data",
          "data": {
            "image/png": "[encoded data removed]",
            "text/plain": [
              "<Figure size 432x288 with 1 Axes>"
            ]
          },
          "metadata": {
            "needs_background": "light"
          }
        }
      ]
    },
    {
      "cell_type": "code",
      "metadata": {
        "id": "WKZLbovS6Xpi"
      },
      "source": [
        "df = right"
      ],
      "execution_count": 337,
      "outputs": []
    },
    {
      "cell_type": "markdown",
      "metadata": {
        "id": "ZeL8laOI14fS"
      },
      "source": [
        "# mclp"
      ]
    },
    {
      "cell_type": "code",
      "metadata": {
        "id": "ElHoQMhR0UTM"
      },
      "source": [
        "# 모든 grid의 중심 좌표를 후보지로 선정 - gruobipy 라이센스 필요\n",
        "def generate_candidate_sites(df):\n",
        "    sites = []\n",
        "    for _, row in df.iterrows():\n",
        "        sites.append([row['geometry'].centroid.coords[0][0], row['geometry'].centroid.coords[0][1]])\n",
        "    return np.array(sites)\n",
        "    #M 안구함"
      ],
      "execution_count": 338,
      "outputs": []
    },
    {
      "cell_type": "code",
      "metadata": {
        "id": "anSxkgXQ5Zu6"
      },
      "source": [
        "from mip import Model, xsum, maximize, BINARY\n",
        "from scipy.spatial import distance_matrix\n",
        "import time\n",
        "from gurobipy import *\n",
        "\n",
        "def mclp(df, K, M, radius):\n",
        "    start = time.time()\n",
        "    sites = generate_candidate_sites(df)\n",
        "    I = J = sites.shape[0]\n",
        "    D = distance_matrix(sites, sites)\n",
        "    mask1 = D <= radius\n",
        "    D[mask1] = 1\n",
        "    D[~mask1] = 0\n",
        "\n",
        "    # MCLP 모델 생성\n",
        "    m = Model()\n",
        "\n",
        "    # 변수 추가\n",
        "    x = {}\n",
        "    y = {}\n",
        "    \n",
        "    # i, j는 binary(0과 1로만 이루어진) 변수\n",
        "    for i in range(I):\n",
        "        y[i] = m.addVar(vtype=GRB.BINARY, name=f\"y{i}\")\n",
        "    for j in range(J):\n",
        "        x[j] = m.addVar(vtype=GRB.BINARY, name=f\"x{j}\")\n",
        "\n",
        "    m.update()\n",
        "    \n",
        "    # 제약식 추가\n",
        "    m.addConstr(quicksum(x[j] for j in range(J)) == K)\n",
        "\n",
        "    for i in range(I):\n",
        "        m.addConstr(quicksum(x[j] for j in np.where(D[i]==1)[0]) >= y[i])\n",
        "\n",
        "    m.setObjective(quicksum(y[i]for i in range(I)),GRB.MAXIMIZE)\n",
        "    m.setParam('OutputFlag', 0)\n",
        "    m.optimize()\n",
        "    end = time.time()\n",
        "#     print('----- Output -----')\n",
        "#     print('  Running time : %s seconds' % float(end-start))\n",
        "#     print('  Optimal coverage points: %g' % m.objVal)\n",
        "    \n",
        "    solution = []\n",
        "    if m.status == GRB.Status.OPTIMAL:\n",
        "        for v in m.getVars():\n",
        "            if v.x==1 and v.varName[0]==\"x\":\n",
        "                solution.append(int(v.varName[1:]))\n",
        "    opt_sites = sites[solution]\n",
        "    return opt_sites, m.objVal"
      ],
      "execution_count": 339,
      "outputs": []
    },
    {
      "cell_type": "code",
      "metadata": {
        "colab": {
          "base_uri": "https://localhost:8080/"
        },
        "id": "4LTWZbnd5i6q",
        "outputId": "3cdc2493-356e-4a72-c28c-c7f139251a8a"
      },
      "source": [
        "radius = 1000\n",
        "K = 10\n",
        "M = right.shape[0]\n",
        "opt_sites_org, f = mclp(df, K, M, radius)\n",
        "print('Cover되는 수요 지점의 개수 : {}'.format(f))\n"
      ],
      "execution_count": 340,
      "outputs": [
        {
          "output_type": "stream",
          "name": "stdout",
          "text": [
            "Cover되는 수요 지점의 개수 : 766.0\n"
          ]
        }
      ]
    },
    {
      "cell_type": "code",
      "metadata": {
        "id": "W9litDSw52wj"
      },
      "source": [
        "opt_df= pd.DataFrame(opt_sites_org, columns=['lon', 'lat'])\n",
        "opt_df['geom'] = opt_df.apply(lambda r: Point(r['lon'], r['lat']), axis=1)\n",
        "gdf = geopandas.GeoDataFrame(opt_df, geometry='geom', crs='epsg:5179')\n",
        "#gdf = gdf.to_crs(epsg=4329)\n",
        "gdf['lon'] = gdf['geom'].apply(lambda p:p.x)\n",
        "gdf['lat'] = gdf['geom'].apply(lambda p:p.y)"
      ],
      "execution_count": 341,
      "outputs": []
    },
    {
      "cell_type": "code",
      "metadata": {
        "colab": {
          "base_uri": "https://localhost:8080/"
        },
        "id": "HeLqb0XBCT0S",
        "outputId": "b7bd22cd-f2cb-4397-c81b-8fdb65e67895"
      },
      "source": [
        "print(gdf)"
      ],
      "execution_count": 342,
      "outputs": [
        {
          "output_type": "stream",
          "name": "stdout",
          "text": [
            "             lon            lat                           geom\n",
            "0  206379.619250  553927.461520  POINT (206379.619 553927.462)\n",
            "1  206493.773398  554423.361317  POINT (206493.773 554423.361)\n",
            "2  207187.447496  557212.243186  POINT (207187.447 557212.243)\n",
            "3  207052.515451  555964.089174  POINT (207052.515 555964.089)\n",
            "4  208308.029095  556843.685281  POINT (208308.029 556843.685)\n",
            "5  208345.769238  553595.424823  POINT (208345.769 553595.425)\n",
            "6  208141.443751  554945.904515  POINT (208141.444 554945.905)\n",
            "7  209919.238920  557403.291388  POINT (209919.239 557403.291)\n",
            "8  207415.957031  552556.789775  POINT (207415.957 552556.790)\n",
            "9  209483.176448  556016.685352  POINT (209483.176 556016.685)\n"
          ]
        }
      ]
    },
    {
      "cell_type": "code",
      "metadata": {
        "colab": {
          "base_uri": "https://localhost:8080/",
          "height": 282
        },
        "id": "qFZ2keKX9E5u",
        "outputId": "e7d0f7ec-ac28-4565-9850-a3e578d88680"
      },
      "source": [
        "gdf.plot(color='red', markersize = 1)"
      ],
      "execution_count": 343,
      "outputs": [
        {
          "output_type": "execute_result",
          "data": {
            "text/plain": [
              "<matplotlib.axes._subplots.AxesSubplot at 0x7fb6b6f27890>"
            ]
          },
          "metadata": {},
          "execution_count": 343
        },
        {
          "output_type": "display_data",
          "data": {
            "image/png": "[encoded data removed]",
            "text/plain": [
              "<Figure size 432x288 with 1 Axes>"
            ]
          },
          "metadata": {
            "needs_background": "light"
          }
        }
      ]
    },
    {
      "cell_type": "code",
      "metadata": {
        "id": "YTX6epOJS-IU"
      },
      "source": [
        "gdf.to_csv('/content/중량구신호등mclp.csv')"
      ],
      "execution_count": 344,
      "outputs": []
    },
    {
      "cell_type": "code",
      "metadata": {
        "id": "-M9QdfrLTw2C"
      },
      "source": [
        ""
      ],
      "execution_count": null,
      "outputs": []
    }
  ]
}