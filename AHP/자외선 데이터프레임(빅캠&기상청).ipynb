{
 "cells": [
  {
   "cell_type": "code",
   "execution_count": 22,
   "metadata": {},
   "outputs": [],
   "source": [
    "\n",
    "import pandas as pd\n",
    "import numpy as np \n",
    "\n",
    "s_dot = pd.read_csv(\"C:/Users/bora3/OneDrive/바탕화~1-DESKTOP-2VUCFIQ-13284516/TAVE/bigcamdata/s_dot2.csv\", encoding= 'euc-kr')\n",
    "population = pd.read_csv(\"C:/Users/bora3/OneDrive/바탕화~1-DESKTOP-2VUCFIQ-13284516/TAVE/bigcamdata/population.csv\")\n",
    "s_dot_bigcam = pd.read_csv(\"C:/Users/bora3/OneDrive/바탕화~1-DESKTOP-2VUCFIQ-13284516/TAVE/bigcamdata/s_dot_2min.csv\")\n",
    "weather_per_min = pd.read_csv(\"C:/Users/bora3/OneDrive/바탕화~1-DESKTOP-2VUCFIQ-13284516/TAVE/bigcamdata/weather_per_min.csv\")\n",
    "weather_real_time = pd.read_csv(\"C:/Users/bora3/OneDrive/바탕화~1-DESKTOP-2VUCFIQ-13284516/TAVE/bigcamdata/weather_real_time.csv\")"
   ]
  },
  {
   "cell_type": "code",
   "execution_count": 23,
   "metadata": {},
   "outputs": [
    {
     "data": {
      "text/plain": [
       "Index(['MODEL(모델명)', 'SERIAL(시리얼)', 'PM25(초미세먼지)', 'PM10(미세먼지)', 'TEMP(기온)',\n",
       "       'HUMI(상대습도)', 'WIND_DIRE(풍향)', 'WIND_SPEED(풍속)', 'GUST_DIRE(돌풍 풍향)',\n",
       "       'GUST_SPEED(돌풍 풍속)', 'INTE_ILLU(조도)', 'ULTRA_RAYS(자외선)', 'NOISE(소음)',\n",
       "       'VIBR_X(진동x)', 'VIBR_Y(진동y)', 'VIBR_Z(진동z)', 'VIBR_X_MAX(진동x 최대)',\n",
       "       'VIBR_Y_MAX(진동y 최대)', 'VIBR_Z_MAX(진동z 최대)', 'EFFE_TEMP(흑구 온도)',\n",
       "       'PM25_STD(초미세먼지 보정)', 'PM10_STD(미세먼지 보정)', 'REG_DATE(측정시간)',\n",
       "       'CARBON_MONO(일산화탄소)', 'NITROGEN_DIO(이산화질소)', 'SULFUR_DIO(이산화황)',\n",
       "       'AMMONIA(암모니아)', 'HYDROGEN_SULF(황화수소)', 'OZONE(오존)', 'DB_DATE(등록일시)'],\n",
       "      dtype='object')"
      ]
     },
     "execution_count": 23,
     "metadata": {},
     "output_type": "execute_result"
    }
   ],
   "source": [
    "s_dot_bigcam.columns"
   ]
  },
  {
   "cell_type": "code",
   "execution_count": 24,
   "metadata": {},
   "outputs": [],
   "source": [
    "s_dot_bigcam.drop(['MODEL(모델명)','HUMI(상대습도)', 'WIND_DIRE(풍향)', 'WIND_SPEED(풍속)', 'GUST_DIRE(돌풍 풍향)',\n",
    "       'GUST_SPEED(돌풍 풍속)','ULTRA_RAYS(자외선)', 'NOISE(소음)',\n",
    "       'VIBR_X(진동x)', 'VIBR_Y(진동y)', 'VIBR_Z(진동z)', 'VIBR_X_MAX(진동x 최대)',\n",
    "       'VIBR_Y_MAX(진동y 최대)', 'VIBR_Z_MAX(진동z 최대)','CARBON_MONO(일산화탄소)', 'NITROGEN_DIO(이산화질소)', 'SULFUR_DIO(이산화황)',\n",
    "       'AMMONIA(암모니아)', 'HYDROGEN_SULF(황화수소)', 'OZONE(오존)', 'DB_DATE(등록일시)' ], axis='columns', inplace=True)"
   ]
  },
  {
   "cell_type": "code",
   "execution_count": 25,
   "metadata": {},
   "outputs": [],
   "source": [
    "\n",
    "s_dot.drop(['기관 명', '송신 서버 번호', '데이터 번호', '모델명', '구분', '초미세먼지(㎍/㎥)',\n",
    "       '미세먼지(㎍/㎥)', '기온(℃)', '상대습도( %)', '풍향(°)', '풍속(m/s)', '돌풍 풍향(°)',\n",
    "       '돌풍 풍속(m/s)', '조도(lux)'], axis='columns', inplace=True)"
   ]
  },
  {
   "cell_type": "code",
   "execution_count": 26,
   "metadata": {},
   "outputs": [],
   "source": [
    "\n",
    "s_dot.drop(['소음(dB)', '진동_x(g)', '진동_y(g)',\n",
    "       '진동_z(g)', '진동_x 최대(g)', '진동_y 최대(g)', '진동_z 최대(g)', '흑구 운도(℃)',\n",
    "       '초미세먼지 보정(㎍/㎥)', '미세먼지 보정(㎍/㎥)', '전송시간', ], axis='columns', inplace=True)"
   ]
  },
  {
   "cell_type": "code",
   "execution_count": 27,
   "metadata": {},
   "outputs": [],
   "source": [
    "# 추가적인 칼럼 수정\n",
    "s_dot_bigcam.rename(columns = {'SERIAL(시리얼)':'시리얼'}, inplace = True)"
   ]
  },
  {
   "cell_type": "code",
   "execution_count": 28,
   "metadata": {},
   "outputs": [],
   "source": [
    "# 같은것 모음\n",
    "s_dot_location_group = s_dot.groupby('시리얼').sum()\n"
   ]
  },
  {
   "cell_type": "code",
   "execution_count": 31,
   "metadata": {},
   "outputs": [],
   "source": [
    "s_dot_bigcam_group = s_dot_bigcam.groupby('시리얼').sum()"
   ]
  },
  {
   "cell_type": "code",
   "execution_count": 32,
   "metadata": {},
   "outputs": [],
   "source": [
    "\n",
    "# 수정후 s_dot_location와 merge\n",
    "s_dot_bigcam_group_merge = s_dot_bigcam_group.merge(s_dot_location_group,left_on='시리얼',right_on='시리얼')"
   ]
  },
  {
   "cell_type": "code",
   "execution_count": 33,
   "metadata": {},
   "outputs": [
    {
     "data": {
      "text/html": [
       "<div>\n",
       "<style scoped>\n",
       "    .dataframe tbody tr th:only-of-type {\n",
       "        vertical-align: middle;\n",
       "    }\n",
       "\n",
       "    .dataframe tbody tr th {\n",
       "        vertical-align: top;\n",
       "    }\n",
       "\n",
       "    .dataframe thead th {\n",
       "        text-align: right;\n",
       "    }\n",
       "</style>\n",
       "<table border=\"1\" class=\"dataframe\">\n",
       "  <thead>\n",
       "    <tr style=\"text-align: right;\">\n",
       "      <th></th>\n",
       "      <th>PM25(초미세먼지)</th>\n",
       "      <th>PM10(미세먼지)</th>\n",
       "      <th>TEMP(기온)</th>\n",
       "      <th>INTE_ILLU(조도)</th>\n",
       "      <th>EFFE_TEMP(흑구 온도)</th>\n",
       "      <th>PM25_STD(초미세먼지 보정)</th>\n",
       "      <th>PM10_STD(미세먼지 보정)</th>\n",
       "      <th>REG_DATE(측정시간)</th>\n",
       "      <th>자외선(UVI)</th>\n",
       "    </tr>\n",
       "    <tr>\n",
       "      <th>시리얼</th>\n",
       "      <th></th>\n",
       "      <th></th>\n",
       "      <th></th>\n",
       "      <th></th>\n",
       "      <th></th>\n",
       "      <th></th>\n",
       "      <th></th>\n",
       "      <th></th>\n",
       "      <th></th>\n",
       "    </tr>\n",
       "  </thead>\n",
       "  <tbody>\n",
       "    <tr>\n",
       "      <th>OC3CL200011</th>\n",
       "      <td>999.0</td>\n",
       "      <td>999.0</td>\n",
       "      <td>99.9</td>\n",
       "      <td>0.0</td>\n",
       "      <td>99.9</td>\n",
       "      <td>999.0</td>\n",
       "      <td>999.0</td>\n",
       "      <td>202103010001</td>\n",
       "      <td>1.3</td>\n",
       "    </tr>\n",
       "    <tr>\n",
       "      <th>OC3CL200012</th>\n",
       "      <td>999.0</td>\n",
       "      <td>999.0</td>\n",
       "      <td>99.9</td>\n",
       "      <td>0.0</td>\n",
       "      <td>99.9</td>\n",
       "      <td>999.0</td>\n",
       "      <td>999.0</td>\n",
       "      <td>202103010000</td>\n",
       "      <td>0.0</td>\n",
       "    </tr>\n",
       "    <tr>\n",
       "      <th>OC3CL200013</th>\n",
       "      <td>999.0</td>\n",
       "      <td>999.0</td>\n",
       "      <td>99.9</td>\n",
       "      <td>0.0</td>\n",
       "      <td>99.9</td>\n",
       "      <td>999.0</td>\n",
       "      <td>999.0</td>\n",
       "      <td>202103010001</td>\n",
       "      <td>0.0</td>\n",
       "    </tr>\n",
       "    <tr>\n",
       "      <th>OC3CL200014</th>\n",
       "      <td>999.0</td>\n",
       "      <td>999.0</td>\n",
       "      <td>99.9</td>\n",
       "      <td>0.0</td>\n",
       "      <td>99.9</td>\n",
       "      <td>999.0</td>\n",
       "      <td>999.0</td>\n",
       "      <td>202103010000</td>\n",
       "      <td>1.3</td>\n",
       "    </tr>\n",
       "    <tr>\n",
       "      <th>OC3CL200016</th>\n",
       "      <td>999.0</td>\n",
       "      <td>999.0</td>\n",
       "      <td>99.9</td>\n",
       "      <td>0.0</td>\n",
       "      <td>99.9</td>\n",
       "      <td>999.0</td>\n",
       "      <td>999.0</td>\n",
       "      <td>202103010000</td>\n",
       "      <td>0.0</td>\n",
       "    </tr>\n",
       "  </tbody>\n",
       "</table>\n",
       "</div>"
      ],
      "text/plain": [
       "             PM25(초미세먼지)  PM10(미세먼지)  TEMP(기온)  INTE_ILLU(조도)  \\\n",
       "시리얼                                                             \n",
       "OC3CL200011        999.0       999.0      99.9            0.0   \n",
       "OC3CL200012        999.0       999.0      99.9            0.0   \n",
       "OC3CL200013        999.0       999.0      99.9            0.0   \n",
       "OC3CL200014        999.0       999.0      99.9            0.0   \n",
       "OC3CL200016        999.0       999.0      99.9            0.0   \n",
       "\n",
       "             EFFE_TEMP(흑구 온도)  PM25_STD(초미세먼지 보정)  PM10_STD(미세먼지 보정)  \\\n",
       "시리얼                                                                    \n",
       "OC3CL200011              99.9               999.0              999.0   \n",
       "OC3CL200012              99.9               999.0              999.0   \n",
       "OC3CL200013              99.9               999.0              999.0   \n",
       "OC3CL200014              99.9               999.0              999.0   \n",
       "OC3CL200016              99.9               999.0              999.0   \n",
       "\n",
       "             REG_DATE(측정시간)  자외선(UVI)  \n",
       "시리얼                                    \n",
       "OC3CL200011    202103010001       1.3  \n",
       "OC3CL200012    202103010000       0.0  \n",
       "OC3CL200013    202103010001       0.0  \n",
       "OC3CL200014    202103010000       1.3  \n",
       "OC3CL200016    202103010000       0.0  "
      ]
     },
     "execution_count": 33,
     "metadata": {},
     "output_type": "execute_result"
    }
   ],
   "source": [
    "s_dot_bigcam_group_merge.head()"
   ]
  },
  {
   "cell_type": "code",
   "execution_count": 41,
   "metadata": {},
   "outputs": [],
   "source": [
    "# 추가데이터 불러와서 위치정보 로드하기\n",
    "s_dot_location = pd.read_csv(\"C:/Users/bora3/OneDrive/바탕화~1-DESKTOP-2VUCFIQ-13284516/TAVE/bigcamdata/S-DoT-locationm.csv\", encoding= 'euc-kr')"
   ]
  },
  {
   "cell_type": "code",
   "execution_count": 42,
   "metadata": {},
   "outputs": [],
   "source": [
    "\n",
    "s_dot_location.drop(['Unnamed: 5','Unnamed: 6',\n",
    "       'Unnamed: 7', 'Unnamed: 8', 'Unnamed: 9', 'Unnamed: 10', 'Unnamed: 11',\n",
    "       'Unnamed: 12', 'Unnamed: 13', 'Unnamed: 14', 'Unnamed: 15',\n",
    "       'Unnamed: 16', 'Unnamed: 17', 'Unnamed: 18', 'Unnamed: 19',\n",
    "       'Unnamed: 20', 'Unnamed: 21', 'Unnamed: 22'], axis='columns', inplace=True)"
   ]
  },
  {
   "cell_type": "code",
   "execution_count": 43,
   "metadata": {},
   "outputs": [],
   "source": [
    "\n",
    "# 추가적인 칼럼 수정\n",
    "s_dot_location.rename(columns = {'시리얼번호':'시리얼'}, inplace = True)"
   ]
  },
  {
   "cell_type": "code",
   "execution_count": 44,
   "metadata": {},
   "outputs": [],
   "source": [
    "# 같은것 모음\n",
    "s_dot_location_group = s_dot_location.groupby('시리얼').sum()"
   ]
  },
  {
   "cell_type": "code",
   "execution_count": 45,
   "metadata": {},
   "outputs": [],
   "source": [
    "# 수정후 s_dot_location와 merge\n",
    "s_dot_complete =s_dot_bigcam_group_merge.merge(s_dot_location_group,left_on='시리얼',right_on='시리얼')"
   ]
  },
  {
   "cell_type": "code",
   "execution_count": 46,
   "metadata": {},
   "outputs": [
    {
     "data": {
      "text/html": [
       "<div>\n",
       "<style scoped>\n",
       "    .dataframe tbody tr th:only-of-type {\n",
       "        vertical-align: middle;\n",
       "    }\n",
       "\n",
       "    .dataframe tbody tr th {\n",
       "        vertical-align: top;\n",
       "    }\n",
       "\n",
       "    .dataframe thead th {\n",
       "        text-align: right;\n",
       "    }\n",
       "</style>\n",
       "<table border=\"1\" class=\"dataframe\">\n",
       "  <thead>\n",
       "    <tr style=\"text-align: right;\">\n",
       "      <th></th>\n",
       "      <th>PM25(초미세먼지)</th>\n",
       "      <th>PM10(미세먼지)</th>\n",
       "      <th>TEMP(기온)</th>\n",
       "      <th>INTE_ILLU(조도)</th>\n",
       "      <th>EFFE_TEMP(흑구 온도)</th>\n",
       "      <th>PM25_STD(초미세먼지 보정)</th>\n",
       "      <th>PM10_STD(미세먼지 보정)</th>\n",
       "      <th>REG_DATE(측정시간)</th>\n",
       "      <th>자외선(UVI)</th>\n",
       "      <th>위도</th>\n",
       "      <th>경도</th>\n",
       "    </tr>\n",
       "    <tr>\n",
       "      <th>시리얼</th>\n",
       "      <th></th>\n",
       "      <th></th>\n",
       "      <th></th>\n",
       "      <th></th>\n",
       "      <th></th>\n",
       "      <th></th>\n",
       "      <th></th>\n",
       "      <th></th>\n",
       "      <th></th>\n",
       "      <th></th>\n",
       "      <th></th>\n",
       "    </tr>\n",
       "  </thead>\n",
       "  <tbody>\n",
       "    <tr>\n",
       "      <th>OC3CL200011</th>\n",
       "      <td>999.0</td>\n",
       "      <td>999.0</td>\n",
       "      <td>99.9</td>\n",
       "      <td>0.0</td>\n",
       "      <td>99.9</td>\n",
       "      <td>999.0</td>\n",
       "      <td>999.0</td>\n",
       "      <td>202103010001</td>\n",
       "      <td>1.3</td>\n",
       "      <td>37.422013</td>\n",
       "      <td>127.024266</td>\n",
       "    </tr>\n",
       "    <tr>\n",
       "      <th>OC3CL200012</th>\n",
       "      <td>999.0</td>\n",
       "      <td>999.0</td>\n",
       "      <td>99.9</td>\n",
       "      <td>0.0</td>\n",
       "      <td>99.9</td>\n",
       "      <td>999.0</td>\n",
       "      <td>999.0</td>\n",
       "      <td>202103010000</td>\n",
       "      <td>0.0</td>\n",
       "      <td>37.544002</td>\n",
       "      <td>127.069731</td>\n",
       "    </tr>\n",
       "    <tr>\n",
       "      <th>OC3CL200013</th>\n",
       "      <td>999.0</td>\n",
       "      <td>999.0</td>\n",
       "      <td>99.9</td>\n",
       "      <td>0.0</td>\n",
       "      <td>99.9</td>\n",
       "      <td>999.0</td>\n",
       "      <td>999.0</td>\n",
       "      <td>202103010001</td>\n",
       "      <td>0.0</td>\n",
       "      <td>37.583469</td>\n",
       "      <td>126.982622</td>\n",
       "    </tr>\n",
       "    <tr>\n",
       "      <th>OC3CL200014</th>\n",
       "      <td>999.0</td>\n",
       "      <td>999.0</td>\n",
       "      <td>99.9</td>\n",
       "      <td>0.0</td>\n",
       "      <td>99.9</td>\n",
       "      <td>999.0</td>\n",
       "      <td>999.0</td>\n",
       "      <td>202103010000</td>\n",
       "      <td>1.3</td>\n",
       "      <td>37.563574</td>\n",
       "      <td>126.984504</td>\n",
       "    </tr>\n",
       "    <tr>\n",
       "      <th>OC3CL200016</th>\n",
       "      <td>999.0</td>\n",
       "      <td>999.0</td>\n",
       "      <td>99.9</td>\n",
       "      <td>0.0</td>\n",
       "      <td>99.9</td>\n",
       "      <td>999.0</td>\n",
       "      <td>999.0</td>\n",
       "      <td>202103010000</td>\n",
       "      <td>0.0</td>\n",
       "      <td>37.525889</td>\n",
       "      <td>127.039126</td>\n",
       "    </tr>\n",
       "  </tbody>\n",
       "</table>\n",
       "</div>"
      ],
      "text/plain": [
       "             PM25(초미세먼지)  PM10(미세먼지)  TEMP(기온)  INTE_ILLU(조도)  \\\n",
       "시리얼                                                             \n",
       "OC3CL200011        999.0       999.0      99.9            0.0   \n",
       "OC3CL200012        999.0       999.0      99.9            0.0   \n",
       "OC3CL200013        999.0       999.0      99.9            0.0   \n",
       "OC3CL200014        999.0       999.0      99.9            0.0   \n",
       "OC3CL200016        999.0       999.0      99.9            0.0   \n",
       "\n",
       "             EFFE_TEMP(흑구 온도)  PM25_STD(초미세먼지 보정)  PM10_STD(미세먼지 보정)  \\\n",
       "시리얼                                                                    \n",
       "OC3CL200011              99.9               999.0              999.0   \n",
       "OC3CL200012              99.9               999.0              999.0   \n",
       "OC3CL200013              99.9               999.0              999.0   \n",
       "OC3CL200014              99.9               999.0              999.0   \n",
       "OC3CL200016              99.9               999.0              999.0   \n",
       "\n",
       "             REG_DATE(측정시간)  자외선(UVI)         위도          경도  \n",
       "시리얼                                                           \n",
       "OC3CL200011    202103010001       1.3  37.422013  127.024266  \n",
       "OC3CL200012    202103010000       0.0  37.544002  127.069731  \n",
       "OC3CL200013    202103010001       0.0  37.583469  126.982622  \n",
       "OC3CL200014    202103010000       1.3  37.563574  126.984504  \n",
       "OC3CL200016    202103010000       0.0  37.525889  127.039126  "
      ]
     },
     "execution_count": 46,
     "metadata": {},
     "output_type": "execute_result"
    }
   ],
   "source": [
    "s_dot_complete.head()"
   ]
  },
  {
   "cell_type": "code",
   "execution_count": null,
   "metadata": {},
   "outputs": [],
   "source": []
  }
 ],
 "metadata": {
  "kernelspec": {
   "display_name": "Python 3",
   "language": "python",
   "name": "python3"
  },
  "language_info": {
   "codemirror_mode": {
    "name": "ipython",
    "version": 3
   },
   "file_extension": ".py",
   "mimetype": "text/x-python",
   "name": "python",
   "nbconvert_exporter": "python",
   "pygments_lexer": "ipython3",
   "version": "3.8.5"
  }
 },
 "nbformat": 4,
 "nbformat_minor": 4
}
