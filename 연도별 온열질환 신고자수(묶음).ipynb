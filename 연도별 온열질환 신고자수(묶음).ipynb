{
 "cells": [
  {
   "cell_type": "code",
   "execution_count": 3,
   "metadata": {},
   "outputs": [],
   "source": [
    "import pandas as pd\n",
    "import numpy as np\n",
    "import matplotlib.pyplot as plt\n",
    "import seaborn as sns\n",
    "import os"
   ]
  },
  {
   "cell_type": "code",
   "execution_count": 4,
   "metadata": {},
   "outputs": [],
   "source": [
    "HeatRelated_Illnesses = pd.read_excel(\"C:/Users/mooo0/OneDrive/바탕 화면/온열질환추이(2011~2020).xlsx\")"
   ]
  },
  {
   "cell_type": "code",
   "execution_count": 5,
   "metadata": {},
   "outputs": [],
   "source": [
    "if os.name == 'posix':\n",
    "    plt.rc(\"font\", family=\"AppleGothic\")\n",
    "\n",
    "else:\n",
    "    plt.rc(\"font\", family=\"Malgun Gothic\")"
   ]
  },
  {
   "cell_type": "code",
   "execution_count": 6,
   "metadata": {
    "scrolled": true
   },
   "outputs": [
    {
     "name": "stdout",
     "output_type": "stream",
     "text": [
      "   year    전체   열사병   열탈진  열경련  열실신  열부종     기타\n",
      "0  2012   443    61   234   83   65  NaN    NaN\n",
      "1  2013   984   317   386  128  151  2.0    NaN\n",
      "2  2014  1189   351   554  147  136  1.0    NaN\n",
      "3  2015   556   140   277   69   50  1.0   19.0\n",
      "4  2016  1056   307   577  101   65  1.0    5.0\n",
      "5  2017  2125   492  1123  266  151  3.0   90.0\n",
      "6  2018  1574   336   881  206   82  1.0   68.0\n",
      "7  2019  4526  1050  2502  518  314  NaN  142.0\n",
      "8  2020  1841   382  1058  230  132  1.0   38.0\n",
      "9  2021  1078   222   576  171   79  NaN   30.0\n"
     ]
    }
   ],
   "source": [
    "print(HeatRelated_Illnesses)"
   ]
  },
  {
   "cell_type": "code",
   "execution_count": 46,
   "metadata": {},
   "outputs": [
    {
     "name": "stdout",
     "output_type": "stream",
     "text": [
      "[713.5, 872.5, 1590.5, 2481]\n"
     ]
    }
   ],
   "source": [
    "merge2 = []\n",
    "\n",
    "for i in range(0,5,2) :\n",
    "    merge2.append((HeatRelated_Illnesses.loc[i, '전체'] +\n",
    "                  HeatRelated_Illnesses.loc[i + 1, '전체'])/2)\n",
    "    \n",
    "merge2.append((HeatRelated_Illnesses.loc[7, '전체'] +\n",
    "                  HeatRelated_Illnesses.loc[8, '전체']+\n",
    "                  HeatRelated_Illnesses.loc[9, '전체'])//3)    \n",
    "print(merge2)    "
   ]
  },
  {
   "cell_type": "code",
   "execution_count": 50,
   "metadata": {},
   "outputs": [
    {
     "name": "stdout",
     "output_type": "stream",
     "text": [
      "   x-labels      years    신고자수\n",
      "0         0  2012~2013   713.5\n",
      "1         1  2014~2015   872.5\n",
      "2         2  2016~2017  1590.5\n",
      "3         3      2018~  2481.0\n"
     ]
    }
   ],
   "source": [
    "df = pd.DataFrame(merge2, columns = ['신고자수'])\n",
    "df.insert(0, 'years', ['2012~2013', '2014~2015', '2016~2017', '2018~'])\n",
    "df.insert(0, 'x-labels', range(0,4))\n",
    "print(df)"
   ]
  },
  {
   "cell_type": "code",
   "execution_count": 59,
   "metadata": {},
   "outputs": [
    {
     "data": {
      "image/png": "[encoded data removed]",
      "text/plain": [
       "<Figure size 432x288 with 1 Axes>"
      ]
     },
     "metadata": {
      "needs_background": "light"
     },
     "output_type": "display_data"
    }
   ],
   "source": [
    "plt.bar(df['years'], df['신고자수'], label='신고자수(명)',color = 'slateblue')\n",
    "plt.title('연도별 온열질환 신고자수(명)')\n",
    "plt.xticks(df['x-labels'], df['years'])\n",
    "plt.savefig('HeatRelated_Illnesses.png')\n",
    "plt.legend()\n",
    "plt.show()"
   ]
  }
 ],
 "metadata": {
  "kernelspec": {
   "display_name": "Python 3",
   "language": "python",
   "name": "python3"
  },
  "language_info": {
   "codemirror_mode": {
    "name": "ipython",
    "version": 3
   },
   "file_extension": ".py",
   "mimetype": "text/x-python",
   "name": "python",
   "nbconvert_exporter": "python",
   "pygments_lexer": "ipython3",
   "version": "3.8.5"
  }
 },
 "nbformat": 4,
 "nbformat_minor": 4
}
